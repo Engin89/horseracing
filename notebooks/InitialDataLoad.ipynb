{
 "cells": [
  {
   "cell_type": "code",
   "execution_count": 1,
   "metadata": {},
   "outputs": [
    {
     "name": "stdout",
     "output_type": "stream",
     "text": [
      "/home/valldabo/Documents/Hobby/PythonProjects/horseracing\n"
     ]
    }
   ],
   "source": [
    "%load_ext autoreload\n",
    "%autoreload 2\n",
    "import os\n",
    "os.chdir('../')\n",
    "print(os.getcwd())\n",
    "from utils import read_table, eng_dict\n",
    "\n",
    "try:\n",
    "    os.makedirs('data/eng/')\n",
    "except:\n",
    "    pass"
   ]
  },
  {
   "cell_type": "code",
   "execution_count": 2,
   "metadata": {},
   "outputs": [
    {
     "name": "stdout",
     "output_type": "stream",
     "text": [
      "(42963, 5)\n"
     ]
    },
    {
     "name": "stderr",
     "output_type": "stream",
     "text": [
      "b'Skipping line 42327: expected 5 fields, saw 6\\nSkipping line 42604: expected 5 fields, saw 6\\nSkipping line 42965: expected 5 fields, saw 7\\n'\n"
     ]
    },
    {
     "data": {
      "text/html": [
       "<div>\n",
       "<style scoped>\n",
       "    .dataframe tbody tr th:only-of-type {\n",
       "        vertical-align: middle;\n",
       "    }\n",
       "\n",
       "    .dataframe tbody tr th {\n",
       "        vertical-align: top;\n",
       "    }\n",
       "\n",
       "    .dataframe thead th {\n",
       "        text-align: right;\n",
       "    }\n",
       "</style>\n",
       "<table border=\"1\" class=\"dataframe\">\n",
       "  <thead>\n",
       "    <tr style=\"text-align: right;\">\n",
       "      <th></th>\n",
       "      <th>id</th>\n",
       "      <th>name</th>\n",
       "      <th>segrar</th>\n",
       "      <th>starter</th>\n",
       "      <th>proc</th>\n",
       "    </tr>\n",
       "  </thead>\n",
       "  <tbody>\n",
       "    <tr>\n",
       "      <th>0</th>\n",
       "      <td>1</td>\n",
       "      <td>Sundberg Maria, Boden</td>\n",
       "      <td>0.0</td>\n",
       "      <td>0.0</td>\n",
       "      <td>0.0</td>\n",
       "    </tr>\n",
       "    <tr>\n",
       "      <th>1</th>\n",
       "      <td>2</td>\n",
       "      <td>Stall Shooter HB, Solna</td>\n",
       "      <td>2.0</td>\n",
       "      <td>27.0</td>\n",
       "      <td>7.0</td>\n",
       "    </tr>\n",
       "    <tr>\n",
       "      <th>2</th>\n",
       "      <td>3</td>\n",
       "      <td>Stall Frisk Luft</td>\n",
       "      <td>0.0</td>\n",
       "      <td>0.0</td>\n",
       "      <td>0.0</td>\n",
       "    </tr>\n",
       "    <tr>\n",
       "      <th>3</th>\n",
       "      <td>4</td>\n",
       "      <td>Remmen HB, Skellefteå</td>\n",
       "      <td>2.0</td>\n",
       "      <td>47.0</td>\n",
       "      <td>4.0</td>\n",
       "    </tr>\n",
       "    <tr>\n",
       "      <th>4</th>\n",
       "      <td>5</td>\n",
       "      <td>St Asagården HB o Tumult HB</td>\n",
       "      <td>0.0</td>\n",
       "      <td>2.0</td>\n",
       "      <td>0.0</td>\n",
       "    </tr>\n",
       "  </tbody>\n",
       "</table>\n",
       "</div>"
      ],
      "text/plain": [
       "   id                         name  segrar  starter  proc\n",
       "0   1        Sundberg Maria, Boden     0.0      0.0   0.0\n",
       "1   2      Stall Shooter HB, Solna     2.0     27.0   7.0\n",
       "2   3             Stall Frisk Luft     0.0      0.0   0.0\n",
       "3   4        Remmen HB, Skellefteå     2.0     47.0   4.0\n",
       "4   5  St Asagården HB o Tumult HB     0.0      2.0   0.0"
      ]
     },
     "execution_count": 2,
     "metadata": {},
     "output_type": "execute_result"
    }
   ],
   "source": [
    "agare = read_table('data/travdata/agare.txt', ['id', 'name', 'segrar', 'starter', 'proc'])\n",
    "print(agare.shape)\n",
    "agare.head()"
   ]
  },
  {
   "cell_type": "code",
   "execution_count": 3,
   "metadata": {},
   "outputs": [],
   "source": [
    "agare.rename(columns=eng_dict).to_csv('data/eng/owners.csv', index=False)"
   ]
  },
  {
   "cell_type": "code",
   "execution_count": 4,
   "metadata": {},
   "outputs": [
    {
     "name": "stdout",
     "output_type": "stream",
     "text": [
      "(42, 5)\n"
     ]
    },
    {
     "data": {
      "text/html": [
       "<div>\n",
       "<style scoped>\n",
       "    .dataframe tbody tr th:only-of-type {\n",
       "        vertical-align: middle;\n",
       "    }\n",
       "\n",
       "    .dataframe tbody tr th {\n",
       "        vertical-align: top;\n",
       "    }\n",
       "\n",
       "    .dataframe thead th {\n",
       "        text-align: right;\n",
       "    }\n",
       "</style>\n",
       "<table border=\"1\" class=\"dataframe\">\n",
       "  <thead>\n",
       "    <tr style=\"text-align: right;\">\n",
       "      <th></th>\n",
       "      <th>sex</th>\n",
       "      <th>age</th>\n",
       "      <th>segrar</th>\n",
       "      <th>starter</th>\n",
       "      <th>proc</th>\n",
       "    </tr>\n",
       "  </thead>\n",
       "  <tbody>\n",
       "    <tr>\n",
       "      <th>0</th>\n",
       "      <td>H</td>\n",
       "      <td>2</td>\n",
       "      <td>426</td>\n",
       "      <td>2547</td>\n",
       "      <td>16</td>\n",
       "    </tr>\n",
       "    <tr>\n",
       "      <th>1</th>\n",
       "      <td>H</td>\n",
       "      <td>3</td>\n",
       "      <td>4238</td>\n",
       "      <td>24084</td>\n",
       "      <td>17</td>\n",
       "    </tr>\n",
       "    <tr>\n",
       "      <th>2</th>\n",
       "      <td>H</td>\n",
       "      <td>4</td>\n",
       "      <td>5569</td>\n",
       "      <td>30544</td>\n",
       "      <td>18</td>\n",
       "    </tr>\n",
       "    <tr>\n",
       "      <th>3</th>\n",
       "      <td>H</td>\n",
       "      <td>5</td>\n",
       "      <td>4350</td>\n",
       "      <td>26221</td>\n",
       "      <td>16</td>\n",
       "    </tr>\n",
       "    <tr>\n",
       "      <th>4</th>\n",
       "      <td>H</td>\n",
       "      <td>6</td>\n",
       "      <td>2736</td>\n",
       "      <td>19866</td>\n",
       "      <td>13</td>\n",
       "    </tr>\n",
       "  </tbody>\n",
       "</table>\n",
       "</div>"
      ],
      "text/plain": [
       "  sex  age  segrar  starter  proc\n",
       "0   H    2     426     2547    16\n",
       "1   H    3    4238    24084    17\n",
       "2   H    4    5569    30544    18\n",
       "3   H    5    4350    26221    16\n",
       "4   H    6    2736    19866    13"
      ]
     },
     "execution_count": 4,
     "metadata": {},
     "output_type": "execute_result"
    }
   ],
   "source": [
    "age = read_table('data/travdata/age.txt', ['sex', 'age', 'segrar', 'starter', 'proc'])\n",
    "print(age.shape)\n",
    "age.head()"
   ]
  },
  {
   "cell_type": "markdown",
   "metadata": {},
   "source": [
    "H - HINGST - STALLION - NOT CASTRATED \n",
    "S - STO - MARE - FEMALE\n",
    "V - VALLACK - GELDING - CASTRATED STALLIN"
   ]
  },
  {
   "cell_type": "code",
   "execution_count": 5,
   "metadata": {},
   "outputs": [],
   "source": [
    "age.sex = age.sex.map({'H':'STALLION', 'S':'MARE', 'V': 'GELDING'})"
   ]
  },
  {
   "cell_type": "code",
   "execution_count": 9,
   "metadata": {},
   "outputs": [],
   "source": [
    "from utils import eng_dict\n",
    "age.rename(columns=eng_dict).to_csv('data/eng/age.csv', index=False)"
   ]
  },
  {
   "cell_type": "code",
   "execution_count": 10,
   "metadata": {},
   "outputs": [
    {
     "name": "stdout",
     "output_type": "stream",
     "text": [
      "(170, 8)\n"
     ]
    },
    {
     "data": {
      "text/html": [
       "<div>\n",
       "<style scoped>\n",
       "    .dataframe tbody tr th:only-of-type {\n",
       "        vertical-align: middle;\n",
       "    }\n",
       "\n",
       "    .dataframe tbody tr th {\n",
       "        vertical-align: top;\n",
       "    }\n",
       "\n",
       "    .dataframe thead th {\n",
       "        text-align: right;\n",
       "    }\n",
       "</style>\n",
       "<table border=\"1\" class=\"dataframe\">\n",
       "  <thead>\n",
       "    <tr style=\"text-align: right;\">\n",
       "      <th></th>\n",
       "      <th>id</th>\n",
       "      <th>bankod</th>\n",
       "      <th>bana</th>\n",
       "      <th>avstand</th>\n",
       "      <th>segrar</th>\n",
       "      <th>starter</th>\n",
       "      <th>proc</th>\n",
       "      <th>NA</th>\n",
       "    </tr>\n",
       "  </thead>\n",
       "  <tbody>\n",
       "    <tr>\n",
       "      <th>0</th>\n",
       "      <td>3</td>\n",
       "      <td>AR</td>\n",
       "      <td>Arvika</td>\n",
       "      <td>50.0</td>\n",
       "      <td>126.0</td>\n",
       "      <td>2227.0</td>\n",
       "      <td>5.0</td>\n",
       "      <td>NaN</td>\n",
       "    </tr>\n",
       "    <tr>\n",
       "      <th>1</th>\n",
       "      <td>5</td>\n",
       "      <td>AX</td>\n",
       "      <td>Axevalla</td>\n",
       "      <td>44.0</td>\n",
       "      <td>2200.0</td>\n",
       "      <td>23267.0</td>\n",
       "      <td>9.0</td>\n",
       "      <td>NaN</td>\n",
       "    </tr>\n",
       "    <tr>\n",
       "      <th>2</th>\n",
       "      <td>6</td>\n",
       "      <td>B</td>\n",
       "      <td>Bergsåker</td>\n",
       "      <td>92.0</td>\n",
       "      <td>4417.0</td>\n",
       "      <td>45665.0</td>\n",
       "      <td>9.0</td>\n",
       "      <td>NaN</td>\n",
       "    </tr>\n",
       "    <tr>\n",
       "      <th>3</th>\n",
       "      <td>9</td>\n",
       "      <td>BJ</td>\n",
       "      <td>Bjerke</td>\n",
       "      <td>100.0</td>\n",
       "      <td>1027.0</td>\n",
       "      <td>9989.0</td>\n",
       "      <td>10.0</td>\n",
       "      <td>NaN</td>\n",
       "    </tr>\n",
       "    <tr>\n",
       "      <th>4</th>\n",
       "      <td>11</td>\n",
       "      <td>BL</td>\n",
       "      <td>Blommeröd</td>\n",
       "      <td>40.0</td>\n",
       "      <td>24.0</td>\n",
       "      <td>199.0</td>\n",
       "      <td>12.0</td>\n",
       "      <td>NaN</td>\n",
       "    </tr>\n",
       "  </tbody>\n",
       "</table>\n",
       "</div>"
      ],
      "text/plain": [
       "   id bankod       bana  avstand  segrar  starter  proc  NA\n",
       "0   3     AR     Arvika     50.0   126.0   2227.0   5.0 NaN\n",
       "1   5     AX   Axevalla     44.0  2200.0  23267.0   9.0 NaN\n",
       "2   6      B  Bergsåker     92.0  4417.0  45665.0   9.0 NaN\n",
       "3   9     BJ     Bjerke    100.0  1027.0   9989.0  10.0 NaN\n",
       "4  11     BL  Blommeröd     40.0    24.0    199.0  12.0 NaN"
      ]
     },
     "execution_count": 10,
     "metadata": {},
     "output_type": "execute_result"
    }
   ],
   "source": [
    "ban = read_table('data/travdata/ban.txt', ['id', 'bankod', 'bana', 'avstand', 'segrar', 'starter', 'proc', 'NA'])\n",
    "print(ban.shape)\n",
    "ban.head()"
   ]
  },
  {
   "cell_type": "code",
   "execution_count": 11,
   "metadata": {},
   "outputs": [],
   "source": [
    "from utils import eng_dict\n",
    "ban.rename(columns=eng_dict).to_csv('data/eng/curcuit.csv', index=False)"
   ]
  },
  {
   "cell_type": "code",
   "execution_count": 13,
   "metadata": {},
   "outputs": [
    {
     "name": "stdout",
     "output_type": "stream",
     "text": [
      "(8, 5)\n"
     ]
    },
    {
     "data": {
      "text/html": [
       "<div>\n",
       "<style scoped>\n",
       "    .dataframe tbody tr th:only-of-type {\n",
       "        vertical-align: middle;\n",
       "    }\n",
       "\n",
       "    .dataframe tbody tr th {\n",
       "        vertical-align: top;\n",
       "    }\n",
       "\n",
       "    .dataframe thead th {\n",
       "        text-align: right;\n",
       "    }\n",
       "</style>\n",
       "<table border=\"1\" class=\"dataframe\">\n",
       "  <thead>\n",
       "    <tr style=\"text-align: right;\">\n",
       "      <th></th>\n",
       "      <th>id</th>\n",
       "      <th>tabell</th>\n",
       "      <th>datum</th>\n",
       "      <th>bana</th>\n",
       "      <th>tvlid</th>\n",
       "    </tr>\n",
       "  </thead>\n",
       "  <tbody>\n",
       "    <tr>\n",
       "      <th>0</th>\n",
       "      <td>1</td>\n",
       "      <td>Ägare</td>\n",
       "      <td>2018-12-29</td>\n",
       "      <td>E</td>\n",
       "      <td>0</td>\n",
       "    </tr>\n",
       "    <tr>\n",
       "      <th>1</th>\n",
       "      <td>2</td>\n",
       "      <td>KönÅlder</td>\n",
       "      <td>2018-12-29</td>\n",
       "      <td>S</td>\n",
       "      <td>0</td>\n",
       "    </tr>\n",
       "    <tr>\n",
       "      <th>2</th>\n",
       "      <td>3</td>\n",
       "      <td>Bana</td>\n",
       "      <td>2018-12-29</td>\n",
       "      <td>S</td>\n",
       "      <td>0</td>\n",
       "    </tr>\n",
       "    <tr>\n",
       "      <th>3</th>\n",
       "      <td>4</td>\n",
       "      <td>Hingst</td>\n",
       "      <td>2018-12-29</td>\n",
       "      <td>S</td>\n",
       "      <td>0</td>\n",
       "    </tr>\n",
       "    <tr>\n",
       "      <th>4</th>\n",
       "      <td>8</td>\n",
       "      <td>Spår</td>\n",
       "      <td>2018-12-29</td>\n",
       "      <td>NaN</td>\n",
       "      <td>0</td>\n",
       "    </tr>\n",
       "  </tbody>\n",
       "</table>\n",
       "</div>"
      ],
      "text/plain": [
       "   id    tabell       datum bana  tvlid\n",
       "0   1     Ägare  2018-12-29    E      0\n",
       "1   2  KönÅlder  2018-12-29    S      0\n",
       "2   3      Bana  2018-12-29    S      0\n",
       "3   4    Hingst  2018-12-29    S      0\n",
       "4   8      Spår  2018-12-29  NaN      0"
      ]
     },
     "execution_count": 13,
     "metadata": {},
     "output_type": "execute_result"
    }
   ],
   "source": [
    "berakdatum = read_table('data/travdata/berakdatum.txt', ['id', 'tabell', 'datum', 'bana', 'tvlid'])\n",
    "print(berakdatum.shape)\n",
    "berakdatum.head()"
   ]
  },
  {
   "cell_type": "code",
   "execution_count": 14,
   "metadata": {},
   "outputs": [
    {
     "name": "stdout",
     "output_type": "stream",
     "text": [
      "(7, 6)\n"
     ]
    },
    {
     "data": {
      "text/html": [
       "<div>\n",
       "<style scoped>\n",
       "    .dataframe tbody tr th:only-of-type {\n",
       "        vertical-align: middle;\n",
       "    }\n",
       "\n",
       "    .dataframe tbody tr th {\n",
       "        vertical-align: top;\n",
       "    }\n",
       "\n",
       "    .dataframe thead th {\n",
       "        text-align: right;\n",
       "    }\n",
       "</style>\n",
       "<table border=\"1\" class=\"dataframe\">\n",
       "  <thead>\n",
       "    <tr style=\"text-align: right;\">\n",
       "      <th></th>\n",
       "      <th>id</th>\n",
       "      <th>lb</th>\n",
       "      <th>ub</th>\n",
       "      <th>r</th>\n",
       "      <th>g</th>\n",
       "      <th>b</th>\n",
       "    </tr>\n",
       "  </thead>\n",
       "  <tbody>\n",
       "    <tr>\n",
       "      <th>0</th>\n",
       "      <td>6</td>\n",
       "      <td>NaN</td>\n",
       "      <td>NaN</td>\n",
       "      <td>251</td>\n",
       "      <td>253</td>\n",
       "      <td>200</td>\n",
       "    </tr>\n",
       "    <tr>\n",
       "      <th>1</th>\n",
       "      <td>5</td>\n",
       "      <td>NaN</td>\n",
       "      <td>NaN</td>\n",
       "      <td>0</td>\n",
       "      <td>128</td>\n",
       "      <td>255</td>\n",
       "    </tr>\n",
       "    <tr>\n",
       "      <th>2</th>\n",
       "      <td>4</td>\n",
       "      <td>5.5</td>\n",
       "      <td>99.0</td>\n",
       "      <td>234</td>\n",
       "      <td>234</td>\n",
       "      <td>234</td>\n",
       "    </tr>\n",
       "    <tr>\n",
       "      <th>3</th>\n",
       "      <td>3</td>\n",
       "      <td>3.5</td>\n",
       "      <td>5.5</td>\n",
       "      <td>128</td>\n",
       "      <td>255</td>\n",
       "      <td>255</td>\n",
       "    </tr>\n",
       "    <tr>\n",
       "      <th>4</th>\n",
       "      <td>2</td>\n",
       "      <td>1.5</td>\n",
       "      <td>3.5</td>\n",
       "      <td>69</td>\n",
       "      <td>194</td>\n",
       "      <td>98</td>\n",
       "    </tr>\n",
       "  </tbody>\n",
       "</table>\n",
       "</div>"
      ],
      "text/plain": [
       "   id   lb    ub    r    g    b\n",
       "0   6  NaN   NaN  251  253  200\n",
       "1   5  NaN   NaN    0  128  255\n",
       "2   4  5.5  99.0  234  234  234\n",
       "3   3  3.5   5.5  128  255  255\n",
       "4   2  1.5   3.5   69  194   98"
      ]
     },
     "execution_count": 14,
     "metadata": {},
     "output_type": "execute_result"
    }
   ],
   "source": [
    "color = read_table('data/travdata/color.txt', ['id', 'lb', 'ub', 'r', 'g', 'b'])\n",
    "print(color.shape)\n",
    "color.head()"
   ]
  },
  {
   "cell_type": "code",
   "execution_count": 15,
   "metadata": {},
   "outputs": [
    {
     "name": "stdout",
     "output_type": "stream",
     "text": [
      "(2, 2)\n"
     ]
    },
    {
     "data": {
      "text/html": [
       "<div>\n",
       "<style scoped>\n",
       "    .dataframe tbody tr th:only-of-type {\n",
       "        vertical-align: middle;\n",
       "    }\n",
       "\n",
       "    .dataframe tbody tr th {\n",
       "        vertical-align: top;\n",
       "    }\n",
       "\n",
       "    .dataframe thead th {\n",
       "        text-align: right;\n",
       "    }\n",
       "</style>\n",
       "<table border=\"1\" class=\"dataframe\">\n",
       "  <thead>\n",
       "    <tr style=\"text-align: right;\">\n",
       "      <th></th>\n",
       "      <th>id</th>\n",
       "      <th>namn</th>\n",
       "    </tr>\n",
       "  </thead>\n",
       "  <tbody>\n",
       "    <tr>\n",
       "      <th>0</th>\n",
       "      <td>1</td>\n",
       "      <td>F-värde</td>\n",
       "    </tr>\n",
       "    <tr>\n",
       "      <th>1</th>\n",
       "      <td>9</td>\n",
       "      <td>Utan Odds</td>\n",
       "    </tr>\n",
       "  </tbody>\n",
       "</table>\n",
       "</div>"
      ],
      "text/plain": [
       "   id       namn\n",
       "0   1    F-värde\n",
       "1   9  Utan Odds"
      ]
     },
     "execution_count": 15,
     "metadata": {},
     "output_type": "execute_result"
    }
   ],
   "source": [
    "ekvgrp = read_table('data/travdata/ekvgrp.txt', ['id', 'namn'])\n",
    "print(ekvgrp.shape)\n",
    "ekvgrp.head()"
   ]
  },
  {
   "cell_type": "code",
   "execution_count": 16,
   "metadata": {},
   "outputs": [
    {
     "name": "stdout",
     "output_type": "stream",
     "text": [
      "(11, 4)\n"
     ]
    },
    {
     "data": {
      "text/html": [
       "<div>\n",
       "<style scoped>\n",
       "    .dataframe tbody tr th:only-of-type {\n",
       "        vertical-align: middle;\n",
       "    }\n",
       "\n",
       "    .dataframe tbody tr th {\n",
       "        vertical-align: top;\n",
       "    }\n",
       "\n",
       "    .dataframe thead th {\n",
       "        text-align: right;\n",
       "    }\n",
       "</style>\n",
       "<table border=\"1\" class=\"dataframe\">\n",
       "  <thead>\n",
       "    <tr style=\"text-align: right;\">\n",
       "      <th></th>\n",
       "      <th>ant</th>\n",
       "      <th>segrar</th>\n",
       "      <th>starter</th>\n",
       "      <th>procent</th>\n",
       "    </tr>\n",
       "  </thead>\n",
       "  <tbody>\n",
       "    <tr>\n",
       "      <th>0</th>\n",
       "      <td>0</td>\n",
       "      <td>12044</td>\n",
       "      <td>107474</td>\n",
       "      <td>1120</td>\n",
       "    </tr>\n",
       "    <tr>\n",
       "      <th>1</th>\n",
       "      <td>1</td>\n",
       "      <td>5079</td>\n",
       "      <td>61148</td>\n",
       "      <td>830</td>\n",
       "    </tr>\n",
       "    <tr>\n",
       "      <th>2</th>\n",
       "      <td>2</td>\n",
       "      <td>3412</td>\n",
       "      <td>40974</td>\n",
       "      <td>830</td>\n",
       "    </tr>\n",
       "    <tr>\n",
       "      <th>3</th>\n",
       "      <td>3</td>\n",
       "      <td>1984</td>\n",
       "      <td>24231</td>\n",
       "      <td>818</td>\n",
       "    </tr>\n",
       "    <tr>\n",
       "      <th>4</th>\n",
       "      <td>4</td>\n",
       "      <td>941</td>\n",
       "      <td>12864</td>\n",
       "      <td>731</td>\n",
       "    </tr>\n",
       "  </tbody>\n",
       "</table>\n",
       "</div>"
      ],
      "text/plain": [
       "   ant  segrar  starter  procent\n",
       "0    0   12044   107474     1120\n",
       "1    1    5079    61148      830\n",
       "2    2    3412    40974      830\n",
       "3    3    1984    24231      818\n",
       "4    4     941    12864      731"
      ]
     },
     "execution_count": 16,
     "metadata": {},
     "output_type": "execute_result"
    }
   ],
   "source": [
    "galopp = read_table('data/travdata/galopp.txt', ['ant', 'segrar', 'starter', 'procent'])\n",
    "print(galopp.shape)\n",
    "galopp.head()"
   ]
  },
  {
   "cell_type": "code",
   "execution_count": 17,
   "metadata": {},
   "outputs": [
    {
     "name": "stdout",
     "output_type": "stream",
     "text": [
      "(1917, 4)\n"
     ]
    },
    {
     "data": {
      "text/html": [
       "<div>\n",
       "<style scoped>\n",
       "    .dataframe tbody tr th:only-of-type {\n",
       "        vertical-align: middle;\n",
       "    }\n",
       "\n",
       "    .dataframe tbody tr th {\n",
       "        vertical-align: top;\n",
       "    }\n",
       "\n",
       "    .dataframe thead th {\n",
       "        text-align: right;\n",
       "    }\n",
       "</style>\n",
       "<table border=\"1\" class=\"dataframe\">\n",
       "  <thead>\n",
       "    <tr style=\"text-align: right;\">\n",
       "      <th></th>\n",
       "      <th>id</th>\n",
       "      <th>systemnr</th>\n",
       "      <th>rad</th>\n",
       "      <th>beskr</th>\n",
       "    </tr>\n",
       "  </thead>\n",
       "  <tbody>\n",
       "    <tr>\n",
       "      <th>0</th>\n",
       "      <td>1</td>\n",
       "      <td>1</td>\n",
       "      <td>1</td>\n",
       "      <td>Alltid 7 rätt om minst en</td>\n",
       "    </tr>\n",
       "    <tr>\n",
       "      <th>1</th>\n",
       "      <td>2</td>\n",
       "      <td>1</td>\n",
       "      <td>2</td>\n",
       "      <td>korrekt tippad</td>\n",
       "    </tr>\n",
       "    <tr>\n",
       "      <th>2</th>\n",
       "      <td>1889</td>\n",
       "      <td>484</td>\n",
       "      <td>1</td>\n",
       "      <td>Alla rätt om</td>\n",
       "    </tr>\n",
       "    <tr>\n",
       "      <th>3</th>\n",
       "      <td>1888</td>\n",
       "      <td>483</td>\n",
       "      <td>6</td>\n",
       "      <td>B = 2 - 4</td>\n",
       "    </tr>\n",
       "    <tr>\n",
       "      <th>4</th>\n",
       "      <td>5</td>\n",
       "      <td>3</td>\n",
       "      <td>1</td>\n",
       "      <td>A = 1-2</td>\n",
       "    </tr>\n",
       "  </tbody>\n",
       "</table>\n",
       "</div>"
      ],
      "text/plain": [
       "     id  systemnr  rad                      beskr\n",
       "0     1         1    1  Alltid 7 rätt om minst en\n",
       "1     2         1    2             korrekt tippad\n",
       "2  1889       484    1               Alla rätt om\n",
       "3  1888       483    6                  B = 2 - 4\n",
       "4     5         3    1                    A = 1-2"
      ]
     },
     "execution_count": 17,
     "metadata": {},
     "output_type": "execute_result"
    }
   ],
   "source": [
    "garanti = read_table('data/travdata/garanti.txt', ['id', 'systemnr', 'rad', 'beskr'])\n",
    "print(garanti.shape)\n",
    "garanti.head()"
   ]
  },
  {
   "cell_type": "code",
   "execution_count": 27,
   "metadata": {},
   "outputs": [],
   "source": [
    "garanti.beskr = garanti.beskr.str.lower().str.replace('rätt', 'correct').str.replace('om', 'if').str.replace('alla', 'all')"
   ]
  },
  {
   "cell_type": "code",
   "execution_count": 28,
   "metadata": {},
   "outputs": [],
   "source": [
    "from utils import eng_dict\n",
    "garanti.rename(columns=eng_dict).to_csv('data/eng/guarantee.csv', index=False)"
   ]
  },
  {
   "cell_type": "code",
   "execution_count": 30,
   "metadata": {},
   "outputs": [
    {
     "name": "stdout",
     "output_type": "stream",
     "text": [
      "(2, 2)\n"
     ]
    },
    {
     "data": {
      "text/html": [
       "<div>\n",
       "<style scoped>\n",
       "    .dataframe tbody tr th:only-of-type {\n",
       "        vertical-align: middle;\n",
       "    }\n",
       "\n",
       "    .dataframe tbody tr th {\n",
       "        vertical-align: top;\n",
       "    }\n",
       "\n",
       "    .dataframe thead th {\n",
       "        text-align: right;\n",
       "    }\n",
       "</style>\n",
       "<table border=\"1\" class=\"dataframe\">\n",
       "  <thead>\n",
       "    <tr style=\"text-align: right;\">\n",
       "      <th></th>\n",
       "      <th>id</th>\n",
       "      <th>grupp</th>\n",
       "    </tr>\n",
       "  </thead>\n",
       "  <tbody>\n",
       "    <tr>\n",
       "      <th>0</th>\n",
       "      <td>1</td>\n",
       "      <td>tider</td>\n",
       "    </tr>\n",
       "    <tr>\n",
       "      <th>1</th>\n",
       "      <td>2</td>\n",
       "      <td>Priser</td>\n",
       "    </tr>\n",
       "  </tbody>\n",
       "</table>\n",
       "</div>"
      ],
      "text/plain": [
       "   id   grupp\n",
       "0   1   tider\n",
       "1   2  Priser"
      ]
     },
     "execution_count": 30,
     "metadata": {},
     "output_type": "execute_result"
    }
   ],
   "source": [
    "grafgrp = read_table('data/travdata/grafgrp.txt', ['id', 'grupp'])\n",
    "print(grafgrp.shape)\n",
    "grafgrp.head()"
   ]
  },
  {
   "cell_type": "code",
   "execution_count": 31,
   "metadata": {},
   "outputs": [
    {
     "name": "stdout",
     "output_type": "stream",
     "text": [
      "(5, 3)\n"
     ]
    },
    {
     "data": {
      "text/html": [
       "<div>\n",
       "<style scoped>\n",
       "    .dataframe tbody tr th:only-of-type {\n",
       "        vertical-align: middle;\n",
       "    }\n",
       "\n",
       "    .dataframe tbody tr th {\n",
       "        vertical-align: top;\n",
       "    }\n",
       "\n",
       "    .dataframe thead th {\n",
       "        text-align: right;\n",
       "    }\n",
       "</style>\n",
       "<table border=\"1\" class=\"dataframe\">\n",
       "  <thead>\n",
       "    <tr style=\"text-align: right;\">\n",
       "      <th></th>\n",
       "      <th>id</th>\n",
       "      <th>rad</th>\n",
       "      <th>variabel</th>\n",
       "    </tr>\n",
       "  </thead>\n",
       "  <tbody>\n",
       "    <tr>\n",
       "      <th>0</th>\n",
       "      <td>1</td>\n",
       "      <td>1</td>\n",
       "      <td>TidSenast</td>\n",
       "    </tr>\n",
       "    <tr>\n",
       "      <th>1</th>\n",
       "      <td>1</td>\n",
       "      <td>2</td>\n",
       "      <td>TidBesta</td>\n",
       "    </tr>\n",
       "    <tr>\n",
       "      <th>2</th>\n",
       "      <td>1</td>\n",
       "      <td>3</td>\n",
       "      <td>Maskintid</td>\n",
       "    </tr>\n",
       "    <tr>\n",
       "      <th>3</th>\n",
       "      <td>2</td>\n",
       "      <td>1</td>\n",
       "      <td>Intakt</td>\n",
       "    </tr>\n",
       "    <tr>\n",
       "      <th>4</th>\n",
       "      <td>2</td>\n",
       "      <td>2</td>\n",
       "      <td>IntaktII</td>\n",
       "    </tr>\n",
       "  </tbody>\n",
       "</table>\n",
       "</div>"
      ],
      "text/plain": [
       "   id  rad   variabel\n",
       "0   1    1  TidSenast\n",
       "1   1    2   TidBesta\n",
       "2   1    3  Maskintid\n",
       "3   2    1     Intakt\n",
       "4   2    2   IntaktII"
      ]
     },
     "execution_count": 31,
     "metadata": {},
     "output_type": "execute_result"
    }
   ],
   "source": [
    "grafrad = read_table('data/travdata/grafrad.txt', ['id', 'rad', 'variabel'])\n",
    "print(grafrad.shape)\n",
    "grafrad.head()"
   ]
  },
  {
   "cell_type": "code",
   "execution_count": 32,
   "metadata": {},
   "outputs": [
    {
     "name": "stdout",
     "output_type": "stream",
     "text": [
      "(4759, 8)\n"
     ]
    },
    {
     "data": {
      "text/html": [
       "<div>\n",
       "<style scoped>\n",
       "    .dataframe tbody tr th:only-of-type {\n",
       "        vertical-align: middle;\n",
       "    }\n",
       "\n",
       "    .dataframe tbody tr th {\n",
       "        vertical-align: top;\n",
       "    }\n",
       "\n",
       "    .dataframe thead th {\n",
       "        text-align: right;\n",
       "    }\n",
       "</style>\n",
       "<table border=\"1\" class=\"dataframe\">\n",
       "  <thead>\n",
       "    <tr style=\"text-align: right;\">\n",
       "      <th></th>\n",
       "      <th>id</th>\n",
       "      <th>namn</th>\n",
       "      <th>segrar</th>\n",
       "      <th>starter</th>\n",
       "      <th>proc</th>\n",
       "      <th>msegrar</th>\n",
       "      <th>mstarter</th>\n",
       "      <th>mproc</th>\n",
       "    </tr>\n",
       "  </thead>\n",
       "  <tbody>\n",
       "    <tr>\n",
       "      <th>0</th>\n",
       "      <td>1</td>\n",
       "      <td>RIDE THE NIGHT</td>\n",
       "      <td>823.0</td>\n",
       "      <td>9643.0</td>\n",
       "      <td>8.0</td>\n",
       "      <td>125.0</td>\n",
       "      <td>1288.0</td>\n",
       "      <td>9.0</td>\n",
       "    </tr>\n",
       "    <tr>\n",
       "      <th>1</th>\n",
       "      <td>2</td>\n",
       "      <td>ASPIRANT NIBS</td>\n",
       "      <td>2.0</td>\n",
       "      <td>70.0</td>\n",
       "      <td>2.0</td>\n",
       "      <td>88.0</td>\n",
       "      <td>1361.0</td>\n",
       "      <td>6.0</td>\n",
       "    </tr>\n",
       "    <tr>\n",
       "      <th>2</th>\n",
       "      <td>3</td>\n",
       "      <td>MR LUCKEN</td>\n",
       "      <td>24.0</td>\n",
       "      <td>253.0</td>\n",
       "      <td>9.0</td>\n",
       "      <td>6.0</td>\n",
       "      <td>38.0</td>\n",
       "      <td>15.0</td>\n",
       "    </tr>\n",
       "    <tr>\n",
       "      <th>3</th>\n",
       "      <td>4</td>\n",
       "      <td>DUKE IRAN</td>\n",
       "      <td>0.0</td>\n",
       "      <td>1.0</td>\n",
       "      <td>0.0</td>\n",
       "      <td>53.0</td>\n",
       "      <td>664.0</td>\n",
       "      <td>7.0</td>\n",
       "    </tr>\n",
       "    <tr>\n",
       "      <th>4</th>\n",
       "      <td>5</td>\n",
       "      <td>BUCK NEWTON</td>\n",
       "      <td>75.0</td>\n",
       "      <td>1172.0</td>\n",
       "      <td>6.0</td>\n",
       "      <td>89.0</td>\n",
       "      <td>922.0</td>\n",
       "      <td>9.0</td>\n",
       "    </tr>\n",
       "  </tbody>\n",
       "</table>\n",
       "</div>"
      ],
      "text/plain": [
       "   id            namn  segrar  starter  proc  msegrar  mstarter  mproc\n",
       "0   1  RIDE THE NIGHT   823.0   9643.0   8.0    125.0    1288.0    9.0\n",
       "1   2   ASPIRANT NIBS     2.0     70.0   2.0     88.0    1361.0    6.0\n",
       "2   3       MR LUCKEN    24.0    253.0   9.0      6.0      38.0   15.0\n",
       "3   4       DUKE IRAN     0.0      1.0   0.0     53.0     664.0    7.0\n",
       "4   5     BUCK NEWTON    75.0   1172.0   6.0     89.0     922.0    9.0"
      ]
     },
     "execution_count": 32,
     "metadata": {},
     "output_type": "execute_result"
    }
   ],
   "source": [
    "hingst = read_table('data/travdata/hingst.txt', ['id', 'namn', 'segrar', 'starter', 'proc', 'msegrar', 'mstarter', 'mproc'])\n",
    "print(hingst.shape)\n",
    "hingst.head()"
   ]
  },
  {
   "cell_type": "code",
   "execution_count": 33,
   "metadata": {},
   "outputs": [],
   "source": [
    "from utils import eng_dict\n",
    "hingst.rename(columns=eng_dict).to_csv('data/eng/stallion.csv', index=False)"
   ]
  },
  {
   "cell_type": "code",
   "execution_count": 35,
   "metadata": {},
   "outputs": [
    {
     "name": "stdout",
     "output_type": "stream",
     "text": [
      "(93682, 25)\n"
     ]
    },
    {
     "data": {
      "text/html": [
       "<div>\n",
       "<style scoped>\n",
       "    .dataframe tbody tr th:only-of-type {\n",
       "        vertical-align: middle;\n",
       "    }\n",
       "\n",
       "    .dataframe tbody tr th {\n",
       "        vertical-align: top;\n",
       "    }\n",
       "\n",
       "    .dataframe thead th {\n",
       "        text-align: right;\n",
       "    }\n",
       "</style>\n",
       "<table border=\"1\" class=\"dataframe\">\n",
       "  <thead>\n",
       "    <tr style=\"text-align: right;\">\n",
       "      <th></th>\n",
       "      <th>id</th>\n",
       "      <th>namn</th>\n",
       "      <th>intakt</th>\n",
       "      <th>intaktii</th>\n",
       "      <th>intaktperstart</th>\n",
       "      <th>pliar1</th>\n",
       "      <th>pliar2</th>\n",
       "      <th>pliar3</th>\n",
       "      <th>starteriar</th>\n",
       "      <th>plfgar1</th>\n",
       "      <th>...</th>\n",
       "      <th>hemmabana</th>\n",
       "      <th>v75segrar</th>\n",
       "      <th>v75starter</th>\n",
       "      <th>v75proc</th>\n",
       "      <th>hingstid</th>\n",
       "      <th>morfarid</th>\n",
       "      <th>tranarid</th>\n",
       "      <th>agarid</th>\n",
       "      <th>nyckel</th>\n",
       "      <th>aktiverad</th>\n",
       "    </tr>\n",
       "  </thead>\n",
       "  <tbody>\n",
       "    <tr>\n",
       "      <th>0</th>\n",
       "      <td>50867</td>\n",
       "      <td>KOLAR SKAFFER</td>\n",
       "      <td>176850.0</td>\n",
       "      <td>100550.0</td>\n",
       "      <td>4570.0</td>\n",
       "      <td>0.0</td>\n",
       "      <td>0.0</td>\n",
       "      <td>0.0</td>\n",
       "      <td>10.0</td>\n",
       "      <td>3.0</td>\n",
       "      <td>...</td>\n",
       "      <td>H</td>\n",
       "      <td>NaN</td>\n",
       "      <td>NaN</td>\n",
       "      <td>NaN</td>\n",
       "      <td>4296.0</td>\n",
       "      <td>988.0</td>\n",
       "      <td>463.0</td>\n",
       "      <td>4088.0</td>\n",
       "      <td>556217.0</td>\n",
       "      <td>2011-05-18</td>\n",
       "    </tr>\n",
       "    <tr>\n",
       "      <th>1</th>\n",
       "      <td>2</td>\n",
       "      <td>A DE NIK GRANDE</td>\n",
       "      <td>135535.0</td>\n",
       "      <td>62364.0</td>\n",
       "      <td>2150.0</td>\n",
       "      <td>0.0</td>\n",
       "      <td>0.0</td>\n",
       "      <td>0.0</td>\n",
       "      <td>0.0</td>\n",
       "      <td>1.0</td>\n",
       "      <td>...</td>\n",
       "      <td>NaN</td>\n",
       "      <td>0.0</td>\n",
       "      <td>0.0</td>\n",
       "      <td>0.0</td>\n",
       "      <td>3.0</td>\n",
       "      <td>4.0</td>\n",
       "      <td>7261.0</td>\n",
       "      <td>31218.0</td>\n",
       "      <td>196099.0</td>\n",
       "      <td>NaN</td>\n",
       "    </tr>\n",
       "    <tr>\n",
       "      <th>2</th>\n",
       "      <td>5</td>\n",
       "      <td>A ONE</td>\n",
       "      <td>106542.0</td>\n",
       "      <td>0.0</td>\n",
       "      <td>NaN</td>\n",
       "      <td>0.0</td>\n",
       "      <td>0.0</td>\n",
       "      <td>0.0</td>\n",
       "      <td>0.0</td>\n",
       "      <td>1.0</td>\n",
       "      <td>...</td>\n",
       "      <td>NaN</td>\n",
       "      <td>0.0</td>\n",
       "      <td>0.0</td>\n",
       "      <td>0.0</td>\n",
       "      <td>13.0</td>\n",
       "      <td>0.0</td>\n",
       "      <td>2.0</td>\n",
       "      <td>2.0</td>\n",
       "      <td>0.0</td>\n",
       "      <td>NaN</td>\n",
       "    </tr>\n",
       "    <tr>\n",
       "      <th>3</th>\n",
       "      <td>7</td>\n",
       "      <td>A SIGN FROM HEAVEN</td>\n",
       "      <td>44900.0</td>\n",
       "      <td>0.0</td>\n",
       "      <td>NaN</td>\n",
       "      <td>0.0</td>\n",
       "      <td>0.0</td>\n",
       "      <td>0.0</td>\n",
       "      <td>0.0</td>\n",
       "      <td>0.0</td>\n",
       "      <td>...</td>\n",
       "      <td>NaN</td>\n",
       "      <td>0.0</td>\n",
       "      <td>0.0</td>\n",
       "      <td>0.0</td>\n",
       "      <td>15.0</td>\n",
       "      <td>1645.0</td>\n",
       "      <td>3.0</td>\n",
       "      <td>376.0</td>\n",
       "      <td>0.0</td>\n",
       "      <td>2010-02-08</td>\n",
       "    </tr>\n",
       "    <tr>\n",
       "      <th>4</th>\n",
       "      <td>50866</td>\n",
       "      <td>ASPE LEON</td>\n",
       "      <td>0.0</td>\n",
       "      <td>1600.0</td>\n",
       "      <td>0.0</td>\n",
       "      <td>0.0</td>\n",
       "      <td>0.0</td>\n",
       "      <td>0.0</td>\n",
       "      <td>1.0</td>\n",
       "      <td>0.0</td>\n",
       "      <td>...</td>\n",
       "      <td>H</td>\n",
       "      <td>NaN</td>\n",
       "      <td>NaN</td>\n",
       "      <td>NaN</td>\n",
       "      <td>276.0</td>\n",
       "      <td>885.0</td>\n",
       "      <td>570.0</td>\n",
       "      <td>21596.0</td>\n",
       "      <td>570499.0</td>\n",
       "      <td>NaN</td>\n",
       "    </tr>\n",
       "  </tbody>\n",
       "</table>\n",
       "<p>5 rows × 25 columns</p>\n",
       "</div>"
      ],
      "text/plain": [
       "      id                namn    intakt  intaktii  intaktperstart  pliar1  \\\n",
       "0  50867       KOLAR SKAFFER  176850.0  100550.0          4570.0     0.0   \n",
       "1      2     A DE NIK GRANDE  135535.0   62364.0          2150.0     0.0   \n",
       "2      5               A ONE  106542.0       0.0             NaN     0.0   \n",
       "3      7  A SIGN FROM HEAVEN   44900.0       0.0             NaN     0.0   \n",
       "4  50866           ASPE LEON       0.0    1600.0             0.0     0.0   \n",
       "\n",
       "   pliar2  pliar3  starteriar  plfgar1  ...  hemmabana  v75segrar  v75starter  \\\n",
       "0     0.0     0.0        10.0      3.0  ...          H        NaN         NaN   \n",
       "1     0.0     0.0         0.0      1.0  ...        NaN        0.0         0.0   \n",
       "2     0.0     0.0         0.0      1.0  ...        NaN        0.0         0.0   \n",
       "3     0.0     0.0         0.0      0.0  ...        NaN        0.0         0.0   \n",
       "4     0.0     0.0         1.0      0.0  ...          H        NaN         NaN   \n",
       "\n",
       "   v75proc hingstid morfarid  tranarid   agarid    nyckel   aktiverad  \n",
       "0      NaN   4296.0    988.0     463.0   4088.0  556217.0  2011-05-18  \n",
       "1      0.0      3.0      4.0    7261.0  31218.0  196099.0         NaN  \n",
       "2      0.0     13.0      0.0       2.0      2.0       0.0         NaN  \n",
       "3      0.0     15.0   1645.0       3.0    376.0       0.0  2010-02-08  \n",
       "4      NaN    276.0    885.0     570.0  21596.0  570499.0         NaN  \n",
       "\n",
       "[5 rows x 25 columns]"
      ]
     },
     "execution_count": 35,
     "metadata": {},
     "output_type": "execute_result"
    }
   ],
   "source": [
    "horse = read_table('data/travdata/horse.txt', ['id', 'namn', 'intakt', 'intaktii', 'intaktperstart',\n",
    "                                                                   'pliar1', 'pliar2', 'pliar3', 'starteriar', 'plfgar1', 'plfgar2', \n",
    "                                                                   'plfgar3', 'starterfgar', 'fodd', 'sex', 'hemmabana', 'v75segrar',\n",
    "                                                                   'v75starter', 'v75proc', 'hingstid', 'morfarid', 'tranarid', 'agarid', 'nyckel', 'aktiverad'])\n",
    "print(horse.shape)\n",
    "horse.head()"
   ]
  },
  {
   "cell_type": "code",
   "execution_count": null,
   "metadata": {},
   "outputs": [],
   "source": []
  },
  {
   "cell_type": "code",
   "execution_count": null,
   "metadata": {},
   "outputs": [],
   "source": [
    "kommentar = read_table('/home/valldabo/Downloads/travdata/kommentar.txt', ['id', 'tvlid', 'spar', 'anm'], warn_bad_lines=False)[::2] #Seems like a parsing error, makes a new line instead of makeing the plac column\n",
    "print(kommentar.shape)\n",
    "kommentar.head()"
   ]
  },
  {
   "cell_type": "code",
   "execution_count": null,
   "metadata": {},
   "outputs": [],
   "source": [
    "kommreg = read_table('/home/valldabo/Downloads/travdata/kommreg.txt', ['nr', 'kommentar', 'sort', 'antal', 'vinster', \n",
    "                                                                       'ackvinstodds', 'proc', 'plats', 'plac', 'snittodds', \n",
    "                                                                       'vinstkr', 'vinstkrsort', 'totantal', 'totvinster', \n",
    "                                                                       'totproc', 'kommentar1', 'kommentar2'])\n",
    "print(kommreg.shape)\n",
    "kommreg.head()"
   ]
  },
  {
   "cell_type": "code",
   "execution_count": null,
   "metadata": {},
   "outputs": [],
   "source": [
    "kommstat = read_table('/home/valldabo/Downloads/travdata/kommstat.txt', ['id', 'tvlid', 'spar', 'kommid', 'plac', \n",
    "                                                                         'typ', 'varde', 'numplac', 'odds'])\n",
    "print(kommstat.shape)\n",
    "kommstat.head()"
   ]
  },
  {
   "cell_type": "code",
   "execution_count": null,
   "metadata": {},
   "outputs": [],
   "source": [
    "kup = read_table('/home/valldabo/Downloads/travdata/kup.txt', ['id', 'nr', 'kupnr', 'gard1', 'gard2', \n",
    "                                                               'gard3', 'gard4', 'gard5', 'gard6', 'gard7'])\n",
    "print(kup.shape)\n",
    "kup.head()"
   ]
  },
  {
   "cell_type": "code",
   "execution_count": null,
   "metadata": {},
   "outputs": [],
   "source": [
    "kuskban = read_table('/home/valldabo/Downloads/travdata/kuskban.txt', ['id', 'bana', 'kusk', 'segrar', 'starter', 'proc'])\n",
    "print(kuskban.shape)\n",
    "kuskban.head()"
   ]
  },
  {
   "cell_type": "code",
   "execution_count": null,
   "metadata": {},
   "outputs": [],
   "source": [
    "kusk = read_table('/home/valldabo/Downloads/travdata/kusk.txt', ['id', 'namn', 'atgkod', 'segrar', 'starter',\n",
    "                                                                 'proc', 'v75segrar', 'v75starter', 'v75proc', 'licens', 'kortnamn', 'hembana'])\n",
    "print(kusk.shape)\n",
    "kusk.head()"
   ]
  },
  {
   "cell_type": "code",
   "execution_count": null,
   "metadata": {},
   "outputs": [],
   "source": [
    "lopp = read_table('/home/valldabo/Downloads/travdata/lopp.txt', ['id', 'horseid', 'datum', 'bana', 'lopp', 'spar',\n",
    "                                                                 'distans', 'tillagg', 'placering', 'tid', 'odds', 'kusk', 'verklspar'],\n",
    "                  warn_bad_lines=False, header='infer')\n",
    "print(lopp.shape)\n",
    "lopp.head()"
   ]
  },
  {
   "cell_type": "code",
   "execution_count": null,
   "metadata": {},
   "outputs": [],
   "source": [
    "mlrrad = read_table('/home/valldabo/Downloads/travdata/mlrrad.txt', ['id', 'mlrid', 'varid', 'proc', 'medel',\n",
    "                                                                     'bvarde', 'varians', 'tvarde', 'sign', 'manuell'])\n",
    "print(mlrrad.shape)\n",
    "mlrrad.head()"
   ]
  },
  {
   "cell_type": "code",
   "execution_count": null,
   "metadata": {},
   "outputs": [],
   "source": [
    "mlr = read_table('/home/valldabo/Downloads/travdata/mlr.txt', ['id', 'typ', 'startsatt', 'distans', 'division', 'bana', \n",
    "                                                              'antal', 'bortfall', 'fvarde', 'datum', 'berakfromdatum', \n",
    "                                                              'bortdivision', 'bortutdelning', 'ekvgrp', 'antlopp',\n",
    "                                                              'snittodds', 'beraktomdatum', 'dagensdatum', 'berakar',\n",
    "                                                              'antplats', 'platsodds'])\n",
    "print(mlr.shape)\n",
    "mlr.head()"
   ]
  },
  {
   "cell_type": "code",
   "execution_count": null,
   "metadata": {},
   "outputs": [],
   "source": [
    "mtid = read_table('/home/valldabo/Downloads/travdata/mtid.txt', ['id', 'datum', 'bana', 'lopp', 'senaste', 'besta'])\n",
    "print(mtid.shape)\n",
    "mtid.head()"
   ]
  },
  {
   "cell_type": "code",
   "execution_count": null,
   "metadata": {},
   "outputs": [],
   "source": [
    "notering = read_table('/home/valldabo/Downloads/travdata/notering.txt', ['id', 'horseid', 'tvlid', 'anm'])\n",
    "print(notering.shape)\n",
    "notering.head()"
   ]
  },
  {
   "cell_type": "code",
   "execution_count": null,
   "metadata": {},
   "outputs": [],
   "source": [
    "odds = read_table('/home/valldabo/Downloads/travdata/odds.txt', ['id', 'tvlid', 'kr', 'tid', 'n1', 'n2', 'n3', 'n4', 'n5', \n",
    "                                                                 'n6', 'n7', 'n8', 'n9', 'n10', 'n11', 'n12', 'n13', 'n14', \n",
    "                                                                 'n15', 'n16', 'n17', 'n18', 'n19', 'n20'])\n",
    "print(odds.shape)\n",
    "odds.head()"
   ]
  },
  {
   "cell_type": "code",
   "execution_count": null,
   "metadata": {},
   "outputs": [],
   "source": [
    "omrspar = read_table('/home/valldabo/Downloads/travdata/omrspar.txt', ['id', 'typ', 'dist', 'spar', 'varde', 'tid', 'segerp'])\n",
    "print(omrspar.shape)\n",
    "omrspar.head()"
   ]
  },
  {
   "cell_type": "code",
   "execution_count": null,
   "metadata": {},
   "outputs": [],
   "source": [
    "omr = read_table('/home/valldabo/Downloads/travdata/omr.txt', ['id', 'typ', 'dist', 'varde'])\n",
    "print(omr.shape)\n",
    "omr.head()"
   ]
  },
  {
   "cell_type": "code",
   "execution_count": null,
   "metadata": {},
   "outputs": [],
   "source": [
    "parm = read_table('/home/valldabo/Downloads/travdata/parm.txt', ['id', 'modell', 'modstart', 'modslut', 'oddsgrans', 'negodds', 'posodds', \n",
    "                                                                 'favoritkvar', 'sluant', 'sluval', 'passwd', 'anvid', 'slumprader', 'slumptyp', \n",
    "                                                                 'favoritspel', 'stabilitet', 'startproc', 'subject', 'mailhost', 'userid',\n",
    "                                                                 'email', 'skickaram', 'skickasyst',\n",
    "                                                               'stabmaxodds', 'mailpassword'])\n",
    "parm.head()"
   ]
  },
  {
   "cell_type": "code",
   "execution_count": null,
   "metadata": {},
   "outputs": [],
   "source": [
    "pris = read_table('/home/valldabo/Downloads/travdata/pris.txt', ['tvlid', 'typ', 'pris1', 'pris2', 'pris3', 'pris4',\n",
    "                                                                 'pris5', 'pris6', 'pris7', 'pris8', 'pris9', 'pris10'])\n",
    "print(pris.shape)\n",
    "pris.head()"
   ]
  },
  {
   "cell_type": "code",
   "execution_count": null,
   "metadata": {},
   "outputs": [],
   "source": [
    "prog = read_table('/home/valldabo/Downloads/travdata/prog.txt', ['id', 'tvlid', 'horseid', 'spar', 'kusk', 'pvalue', 'tid', 'verklspar', 'plac', 'rank', 'atgkod', 'odds1',\n",
    "                                                                'v1', 'v2', 'v3', 'v4', 'v5', 'v6', 'v7', 'v8', 'v9', \n",
    "                                                                 'v10', 'v11', 'v12', 'v13', 'v14', 'v15', 'v16', 'v17', 'v18', 'v19',\n",
    "                                                                 'v20', 'v21', 'v22', 'v23', 'v24', 'v25', 'v26', 'v27', 'v28', 'v29', \n",
    "                                                                 'v30', 'v31', 'v32', 'v33', 'v34', 'v35', 'v36', 'v37', 'v38', 'v39',\n",
    "                                                                 'v40', 'v41', 'v42', 'v43', 'v44', 'v45', 'v46', 'v47', 'v48', 'v49', \n",
    "                                                                 'v50', 'v51', 'v52', 'v53', 'v54', 'v55', 'v56',\n",
    "                                                                'stabilitet', 'stabb', 'bort', 'pvalue2', 'stid', 'diff', 'tidsrank', 'tidsplac', 'tidsrank2',\n",
    "                                                                'v57', 'v58', 'v59', 'v60', 'ranktid', 'v61', 'v62', 'bana', 'avdv75', 'v63', 'v64', 'v65', 'v66',\n",
    "                                                                'agarnr', 'tranarnr', 'v67', 'uppehall', 'v68', 'v69', 'v70', 'v71', 'v72', 'v73',\n",
    "                                                                'antstreck', 'v74', 'v75', 'v76', 'v77', 'v78', 'v79',\n",
    "                                                                'v80', 'v81', 'v82', 'v83', 'v84', 'v85', 'v86', 'v87', 'v88', 'v89',\n",
    "                                                                'v90', 'v91', 'v92', 'v93', 'v94', 'v95', 'v96', 'v97', 'v98', 'v99'])\n",
    "print(prog.shape)\n",
    "prog.head()"
   ]
  },
  {
   "cell_type": "code",
   "execution_count": null,
   "metadata": {},
   "outputs": [],
   "source": [
    "raka = read_table('/home/valldabo/Downloads/travdata/raka.txt', ['ant', 'segrar', 'starter', 'proc'])\n",
    "print(raka.shape)\n",
    "raka.head()"
   ]
  },
  {
   "cell_type": "code",
   "execution_count": null,
   "metadata": {},
   "outputs": [],
   "source": [
    "redu = read_table('/home/valldabo/Downloads/travdata/redu.txt', ['nr', 'typ', 'konstr', 'garderade', 'osym', 'antkup', \n",
    "                                                                 'anta', 'antb', 'antc', 'antd', 'ante', 'antf', 'pris', 'vint', 'utv', 'rf'])\n",
    "print(redu.shape)\n",
    "redu.head()"
   ]
  },
  {
   "cell_type": "code",
   "execution_count": null,
   "metadata": {},
   "outputs": [],
   "source": [
    "rshuv= read_table('/home/valldabo/Downloads/travdata/rshuv.txt', ['id', 'datum1', 'datum2'])\n",
    "print(rshuv.shape)\n",
    "rshuv.head()"
   ]
  },
  {
   "cell_type": "code",
   "execution_count": null,
   "metadata": {},
   "outputs": [],
   "source": [
    "rsreg = read_table('/home/valldabo/Downloads/travdata/rsreg.txt', ['id', 'vnr', 'medel', 'bvarde'])\n",
    "print(rsreg.shape)\n",
    "rsreg.head()"
   ]
  },
  {
   "cell_type": "code",
   "execution_count": null,
   "metadata": {},
   "outputs": [],
   "source": [
    "rssum = read_table('/home/valldabo/Downloads/travdata/rssum.txt', ['id', 'nr', 'variabel', 'skattning', 'utdelning'])\n",
    "print(rssum.shape)\n",
    "rssum.head()"
   ]
  },
  {
   "cell_type": "code",
   "execution_count": null,
   "metadata": {},
   "outputs": [],
   "source": [
    "shhuv = read_table('/home/valldabo/Downloads/travdata/shhuv.txt', ['id', 'datum1', 'datum2', 'A', 'R'])\n",
    "print(shhuv.shape)\n",
    "shhuv.head()"
   ]
  },
  {
   "cell_type": "code",
   "execution_count": null,
   "metadata": {},
   "outputs": [],
   "source": [
    "shsum = read_table('/home/valldabo/Downloads/travdata/shsum.txt', ['id', 'nr', 'variabel', 'skattning', 'utdelning'])\n",
    "print(shsum.shape)\n",
    "shsum.head()"
   ]
  },
  {
   "cell_type": "code",
   "execution_count": null,
   "metadata": {},
   "outputs": [],
   "source": [
    "sparklass = read_table('/home/valldabo/Downloads/travdata/sparklass.txt', ['id', 'klass', 'startsatt', 'distans', \n",
    "                                                                           'tillag', 'spar', 'segrar', 'starter', 'proc'])\n",
    "print(sparklass.shape)\n",
    "sparklass.head()"
   ]
  },
  {
   "cell_type": "code",
   "execution_count": null,
   "metadata": {},
   "outputs": [],
   "source": [
    "spar = read_table('/home/valldabo/Downloads/travdata/spar.txt', ['id', 'klass', 'startsatt', 'distans', 'tillag', \n",
    "                                                                 'spar', 'segrar', 'starter', 'proc'])\n",
    "print(spar.shape)\n",
    "spar.head()"
   ]
  },
  {
   "cell_type": "code",
   "execution_count": null,
   "metadata": {},
   "outputs": [],
   "source": [
    "spelutv = read_table('/home/valldabo/Downloads/travdata/spelutv.txt', ['id', 'datum', 'bana', 'typ', 'systemnr', 'maxkr', 'dtyp', \n",
    "                                                                       'pris', 'vinst', 'a7', 'a6', 'a5', 'a4', 'spikar', 'spiktyp', 'rader1', \n",
    "                                                                       'rader', 'maxhastar', 'spikratt', 'ack'])\n",
    "print(spelutv.shape)\n",
    "spelutv.head()"
   ]
  },
  {
   "cell_type": "code",
   "execution_count": null,
   "metadata": {},
   "outputs": [],
   "source": [
    "tranare = read_table('/home/valldabo/Downloads/travdata/tranare.txt', ['id', 'namn', 'segrar', 'starter', 'proc'])\n",
    "print(tranare.shape)\n",
    "tranare.head()"
   ]
  },
  {
   "cell_type": "code",
   "execution_count": null,
   "metadata": {},
   "outputs": [],
   "source": [
    "tvldag = read_table('/home/valldabo/Downloads/travdata/tvldag.txt', ['id', 'datum', 'bana', 'typ', 'cfg', 'dd1', 'starttid', 'oms',\n",
    "                                                                    'antsyst', 'sh', 'grad', 'dd2', 'ld', 'ld1', 'ld2'])\n",
    "print(tvldag.shape)\n",
    "tvldag.head()"
   ]
  },
  {
   "cell_type": "code",
   "execution_count": null,
   "metadata": {},
   "outputs": [],
   "source": [
    "tvlkva = read_table('/home/valldabo/Downloads/travdata/tvlkva.txt', ['id'] + ['s' + str(i) for i in range(1, 100)])\n",
    "print(tvlkva.shape)\n",
    "tvlkva.head()"
   ]
  },
  {
   "cell_type": "code",
   "execution_count": null,
   "metadata": {},
   "outputs": [],
   "source": [
    "tvlsum = read_table('/home/valldabo/Downloads/travdata/tvlsum.txt', ['id'] + ['s' + str(i) for i in range(1, 100)])\n",
    "print(tvlsum.shape)\n",
    "tvlsum.head()"
   ]
  },
  {
   "cell_type": "code",
   "execution_count": null,
   "metadata": {},
   "outputs": [],
   "source": [
    "tvl = read_table('/home/valldabo/Downloads/travdata/tvl.txt', ['id', 'datum', 'bana', 'lopp', 'startsatt', 'distans', \n",
    "                                                               'division', 'banforh', 'v5', 'v75', 'v86', 'v65', 'forstapris',\n",
    "                                                               'loppid', 'startid', 'konhv', 'antilopp'])\n",
    "print(tvl.shape)\n",
    "tvl.head()"
   ]
  },
  {
   "cell_type": "code",
   "execution_count": null,
   "metadata": {},
   "outputs": [],
   "source": [
    "uppehall = read_table('/home/valldabo/Downloads/travdata/uppehall.txt', ['ant', 'segrar', 'starter', 'proc'])\n",
    "print(uppehall.shape)\n",
    "uppehall.head()"
   ]
  },
  {
   "cell_type": "code",
   "execution_count": null,
   "metadata": {},
   "outputs": [],
   "source": [
    "columns = ['id'] + ['ratt' + str(i) for i in reversed(range(4, 9))] \n",
    "for name in  ['progv', 'rank', 'vinnare', 'odds', 'streck']:\n",
    "    columns += [name + str(i) for i in range(1, 9)]\n",
    "columns += ['datum', 'bana']\n",
    "columns += ['plats' + str(i) for i in range(1, 9)] + ['typ', 'NA']\n",
    "\n",
    "utd = read_table('/home/valldabo/Downloads/travdata/utd.txt', columns)\n",
    "print(utd.shape)\n",
    "utd.head()"
   ]
  },
  {
   "cell_type": "code",
   "execution_count": null,
   "metadata": {},
   "outputs": [],
   "source": [
    "utlmtid = read_table('/home/valldabo/Downloads/travdata/utlmtid.txt', ['horseid', 'datum', 'bana', 'lopp', 'mtid'])\n",
    "print(utlmtid.shape)\n",
    "utlmtid.head()"
   ]
  },
  {
   "cell_type": "code",
   "execution_count": null,
   "metadata": {},
   "outputs": [],
   "source": [
    "varkollhuv = read_table('/home/valldabo/Downloads/travdata/varkollhuv.txt', ['id', 'startsatt', 'distans', 'division', 'bana',\n",
    "                                                                            'datumfrom', 'datumtom', 'antal'])\n",
    "print(varkollhuv.shape)\n",
    "varkollhuv.head()"
   ]
  },
  {
   "cell_type": "code",
   "execution_count": null,
   "metadata": {},
   "outputs": [],
   "source": [
    "varkolltmp = read_table('/home/valldabo/Downloads/travdata/varkolltmp.txt', ['id', 'tvlid', 'spar', 'varid', 'varde'])\n",
    "print(varkolltmp.shape)\n",
    "varkolltmp.head()"
   ]
  },
  {
   "cell_type": "code",
   "execution_count": null,
   "metadata": {},
   "outputs": [],
   "source": [
    "varkoll = read_table('/home/valldabo/Downloads/travdata/varkoll.txt', ['id', 'huvid', 'varid', 'utomgrans', 'bortfall', 'noll', 'godk'])\n",
    "print(varkoll.shape)\n",
    "varkoll.head()"
   ]
  },
  {
   "cell_type": "code",
   "execution_count": null,
   "metadata": {},
   "outputs": [],
   "source": [
    "vpla = read_table('/home/valldabo/Downloads/travdata/vpla.txt', ['id', 'rank', 'VINNARE', 'PROC', 'ODDS'])\n",
    "print(vpla.shape)\n",
    "vpla.head()"
   ]
  },
  {
   "cell_type": "code",
   "execution_count": null,
   "metadata": {},
   "outputs": [],
   "source": [
    "winp2huv = read_table('/home/valldabo/Downloads/travdata/winp2huv.txt', ['typ', 'datum1', 'datum2'])\n",
    "print(winp2huv.shape)\n",
    "winp2huv.head()"
   ]
  },
  {
   "cell_type": "code",
   "execution_count": null,
   "metadata": {},
   "outputs": [],
   "source": [
    "winp2 = read_table('/home/valldabo/Downloads/travdata/Winp2.txt', ['typ', 'rank', 'ant', 'vinnare', 'procent', 'odds'])\n",
    "print(winp2.shape)\n",
    "winp2.head()"
   ]
  }
 ],
 "metadata": {
  "kernelspec": {
   "display_name": "horseracing",
   "language": "python",
   "name": "horseracing"
  },
  "language_info": {
   "codemirror_mode": {
    "name": "ipython",
    "version": 3
   },
   "file_extension": ".py",
   "mimetype": "text/x-python",
   "name": "python",
   "nbconvert_exporter": "python",
   "pygments_lexer": "ipython3",
   "version": "3.6.0"
  }
 },
 "nbformat": 4,
 "nbformat_minor": 2
}
